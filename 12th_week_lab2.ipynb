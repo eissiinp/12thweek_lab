{
 "cells": [
  {
   "cell_type": "markdown",
   "id": "31c43935-8bac-45a8-a89d-51e8c218e2cc",
   "metadata": {},
   "source": [
    "#### 두 개의 자연수를 입력 받아서 나눗셈을 하는 Python code "
   ]
  },
  {
   "cell_type": "code",
   "execution_count": null,
   "id": "67b511e8-9f7d-474a-bad1-d8bd9949c006",
   "metadata": {},
   "outputs": [],
   "source": [
    "try:\n",
    "    a, b = map(int, input(\"Enter two integers: \").split())\n",
    "\n",
    "    c = a / b\n",
    "    print(f'{a} / {b} = {c}')"
   ]
  },
  {
   "cell_type": "markdown",
   "id": "8bb38822-dc4b-4a73-9d09-e28166aef5ff",
   "metadata": {},
   "source": [
    "### Solution Explanation 1 ~Try-Except Block is like a safety net. The \"try\" block attempts risky code, and if any errors occur, the program jumps to the \"except\" block to handle them."
   ]
  },
  {
   "cell_type": "code",
   "execution_count": null,
   "id": "cfeb433a-7cf0-4693-9363-bccde5f7e592",
   "metadata": {},
   "outputs": [],
   "source": [
    "except ValueError:\n",
    "    print(\"Please enter valid integers.\")\n",
    "    \n",
    "except ZeroDivisionError:\n",
    "    print(\"Division by zero is not allowed.\")\n",
    "    \n",
    "except Exception as e:\n",
    "    print(f\"An error occurred: {e}\")"
   ]
  },
  {
   "cell_type": "markdown",
   "id": "35438f65-a7d9-4b11-b09a-5de0ad89141a",
   "metadata": {},
   "source": [
    "### Solution Explanation 2 ~ Exceptions is the program prepares for potential errors. It knows how to handle specific types of errors like invalid input or division by zero and it also handles unexpected errors gracefully."
   ]
  },
  {
   "cell_type": "code",
   "execution_count": null,
   "id": "69707b97-b87a-4f1e-88b6-282a01975d8a",
   "metadata": {},
   "outputs": [],
   "source": [
    "else:\n",
    "    print(f'{a} / {b} = {c}')\n",
    "    \n",
    "finally:\n",
    "    print(\"Calculation completed.\")"
   ]
  },
  {
   "cell_type": "markdown",
   "id": "069f3941-4f99-4cff-a3f0-5e1d3f34bf05",
   "metadata": {},
   "source": [
    "### Solution Explanation 3 ~ Else Block is successful execution of the \"try\" block. It congratulates the successful completion of the operation. ~ \r\n",
    "Finally Blort always runof whether an error occurred or not. It's like cleaning up after the operation, ensuring everything is properly closed or finalized. It indicates the completion of the calculation process."
   ]
  },
  {
   "cell_type": "markdown",
   "id": "701fcbeb-7eb9-41ec-be47-c4816079592c",
   "metadata": {},
   "source": [
    "## try에서 오류가 없으면 else 수생, 있으면 except 수생"
   ]
  }
 ],
 "metadata": {
  "kernelspec": {
   "display_name": "",
   "name": ""
  },
  "language_info": {
   "name": ""
  }
 },
 "nbformat": 4,
 "nbformat_minor": 5
}
