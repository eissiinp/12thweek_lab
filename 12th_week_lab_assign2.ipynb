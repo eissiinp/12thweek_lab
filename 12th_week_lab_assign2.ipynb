# day53 #66days_challenge 
## 소인수분해란 어떤 수를 소수들의 곱으로 표현하는 것입니다. 예를 들어 12를 소인수 분해하면 2 * 2 * 3 으로 나타낼 수 있습니다. 따라서 12의 소인수는 2와 3입니다. 자연수 n이 매개변수로 주어질 때 n의 소인수를 오름차순으로 담은 배열을 return하도록 solution 함수를 완성해주세요.

def solution(n):
    def prime_factors(n):
        i = 2
        factors = []
        while i * i <= n:
            if n % i:
                i += 1
            else:
                n //= i
                if i not in factors:
                    factors.append(i)
        if n > 1:
            factors.append(n)
        return factors
    
    return sorted(prime_factors(n))

print(solution(12))  
print(solution(18))  
print(solution(28))  
print(solution(29))  

### Solution Explanation ~ I use Solution Function at the very first line as it is the main function that takes a number n and returns a list of its prime factors in ascending order.And add (prime_factors)to find the prime factors of the given number n.The last,I use the sorted function to ensure the prime factors are in ascending order before returning them.

-------------

# day32 #66days_challenge
# Write a Python function called greet_user that takes a parameter name with a default value of "Guest" and prints a greeting message with the provided name.Test the function by calling it with and without providing a name.

def greet_user(name="Guest"):
    print(f"Hello, {name}!")

greet_user("Sunjae")  
greet_user()         

### call greet_user() to greet "Guest" to greet Sunjae.

-------------

## days46 66days_challenge
# 도량형(度量衡)이라는 것은 길이, 넓이, 면적, 무게, 부피, 등의 단위를 재는 법을 뜻합니다.나라, 시대, 지역에 따라서 그 단위가 바뀌곤 합니다.익숙하지 않은 단위를 익숙한 단위로 전환하는 공식을 검색(Googling)하면 찾을 수 있습니다.지난 강의 시간에 말씀드렸던 lambda function을 활용하여 도량형(度量衡) 환산하는 Python code를 만들어볼까요?

meters_to_feet = lambda meters: meters * 3.280
kilometers_to_miles = lambda kilometers: kilometers * 0.621

kilograms_to_pounds = lambda kilograms: kilograms * 2.204
grams_to_ounces = lambda grams: grams * 0.035274

liters_to_gallons = lambda liters: liters * 0.264
milliliters_to_ounces = lambda milliliters: milliliters * 0.033

print(f"10 meters is {meters_to_feet(10):.2f} feet")
print(f"5 kilometers is {kilometers_to_miles(5):.2f} miles")
print(f"70 kilograms is {kilograms_to_pounds(70):.2f} pounds")
print(f"100 grams is {grams_to_ounces(100):.2f} ounces")
print(f"3 liters is {liters_to_gallons(3):.2f} gallons")
print(f"500 milliliters is {milliliters_to_fluidounces(500):.2f} fluid ounces")

### Lambda Functions -They're a quick way to create small, one-off functions.Testing the Functions - Just plug in some numbers and print out the results. And use 2f to make sure the numbers show up with two decimal places.

-------------


