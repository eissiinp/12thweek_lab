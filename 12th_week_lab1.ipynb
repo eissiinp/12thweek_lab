{
 "cells": [
  {
   "cell_type": "code",
   "execution_count": null,
   "id": "190a8667-4bcd-4cbb-a0df-12d7fdd79ae5",
   "metadata": {},
   "outputs": [],
   "source": [
    "import itertools\n",
    "\n",
    "def is_prime(n):\n",
    "\n",
    "    if n <= 1:\n",
    "        return False\n",
    "    for i in range(2, int(n**0.5) + 1):\n",
    "        if n % i == 0:\n",
    "            return False\n",
    "    return True\n"
   ]
  },
  {
   "cell_type": "markdown",
   "id": "f6e635fc-1ddb-43b3-9a1b-823bffb9a3f9",
   "metadata": {},
   "source": [
    "### Solution Exlpanation 1 ~ At the very start of the code I use tertools modules because it provides various functions for creating iterators for efficient looping ~ and for is_prime function - it determines whether a number is prime or not\n",
    "\n"
   ]
  },
  {
   "cell_type": "code",
   "execution_count": null,
   "id": "ce2aae02-293c-4439-bd91-d7f9a2b5b4c6",
   "metadata": {},
   "outputs": [],
   "source": [
    "def solution(nums):\n",
    "    count = 0\n",
    " \n",
    "    for comb in itertools.combinations(nums, 3):\n",
    "   \n",
    "        comb_sum = sum(comb)\n",
    "      \n",
    "        if is_prime(comb_sum):\n",
    "            count += 1\n",
    "    return count\n",
    "\n",
    "print(solution([1, 2, 3, 4]))\n",
    "print(solution([1, 2, 7, 6, 4]))\n"
   ]
  },
  {
   "cell_type": "markdown",
   "id": "67d31481-7ed5-4c3c-a9fd-a5939823936b",
   "metadata": {},
   "source": [
    "### Solution Explanantion 2 ~ I use itertools.combinations to creates all possible combinations of three numbers from the input list, \n",
    "solution Functio to cCounts the combinations where the sum of three numbers is a prime numbe and \r\n",
    "Retu keyword to r Returns the count of such prime-sum combinationIn the end I use print function to print out the output result that I want.s."
   ]
  }
 ],
 "metadata": {
  "kernelspec": {
   "display_name": "Python 3 (ipykernel)",
   "language": "python",
   "name": "python3"
  },
  "language_info": {
   "codemirror_mode": {
    "name": "ipython",
    "version": 3
   },
   "file_extension": ".py",
   "mimetype": "text/x-python",
   "name": "python",
   "nbconvert_exporter": "python",
   "pygments_lexer": "ipython3",
   "version": "3.11.7"
  }
 },
 "nbformat": 4,
 "nbformat_minor": 5
}
